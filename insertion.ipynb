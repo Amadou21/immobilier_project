{
 "cells": [
  {
   "cell_type": "code",
   "execution_count": null,
   "metadata": {},
   "outputs": [],
   "source": [
    "pip install mysql"
   ]
  },
  {
   "cell_type": "code",
   "execution_count": 1,
   "metadata": {},
   "outputs": [
    {
     "ename": "ModuleNotFoundError",
     "evalue": "No module named 'mysql'",
     "output_type": "error",
     "traceback": [
      "\u001b[0;31m---------------------------------------------------------------------------\u001b[0m",
      "\u001b[0;31mModuleNotFoundError\u001b[0m                       Traceback (most recent call last)",
      "Cell \u001b[0;32mIn[1], line 1\u001b[0m\n\u001b[0;32m----> 1\u001b[0m \u001b[38;5;28;01mimport\u001b[39;00m \u001b[38;5;21;01mmysql\u001b[39;00m\u001b[38;5;21;01m.\u001b[39;00m\u001b[38;5;21;01mconnector\u001b[39;00m\n\u001b[1;32m      3\u001b[0m \u001b[38;5;66;03m# Connexion à la base de données MySQL\u001b[39;00m\n\u001b[1;32m      4\u001b[0m \u001b[38;5;28;01mdef\u001b[39;00m \u001b[38;5;21minsert_data_into_db\u001b[39m(data):\n",
      "\u001b[0;31mModuleNotFoundError\u001b[0m: No module named 'mysql'"
     ]
    }
   ],
   "source": [
    "import mysql.connector\n",
    "\n",
    "# Connexion à la base de données MySQL\n",
    "def insert_data_into_db(data):\n",
    "    try:\n",
    "        # Remplacez ces valeurs par vos informations de connexion\n",
    "        conn = mysql.connector.connect(\n",
    "            host=\"localhost\",\n",
    "            user=\"root\",\n",
    "            password=\"\",\n",
    "            database=\"customers_base\"\n",
    "        )\n",
    "        cursor = conn.cursor()\n",
    "        \n",
    "        # Requête SQL pour insérer les données\n",
    "        insert_query = \"\"\"\n",
    "        INSERT INTO reporting (id, type_bien, type_transaction, week, month, year, predicted_price)\n",
    "        VALUES (%s, %s, %s, %s, %s, %s, %s)\n",
    "        \"\"\"\n",
    "        \n",
    "        # Exécuter la requête pour chaque ligne de données\n",
    "        cursor.executemany(insert_query, data)\n",
    "        \n",
    "        # Valider la transaction\n",
    "        conn.commit()\n",
    "        \n",
    "        print(f\"{len(data)} lignes ont été insérées avec succès.\")\n",
    "    \n",
    "    except Exception as e:\n",
    "        print(f\"Erreur lors de l'insertion des données : {e}\")\n",
    "    \n",
    "    finally:\n",
    "        # Fermer la connexion\n",
    "        if conn:\n",
    "            cursor.close()\n",
    "            conn.close()"
   ]
  },
  {
   "cell_type": "code",
   "execution_count": null,
   "metadata": {},
   "outputs": [],
   "source": []
  }
 ],
 "metadata": {
  "kernelspec": {
   "display_name": "base",
   "language": "python",
   "name": "python3"
  },
  "language_info": {
   "codemirror_mode": {
    "name": "ipython",
    "version": 3
   },
   "file_extension": ".py",
   "mimetype": "text/x-python",
   "name": "python",
   "nbconvert_exporter": "python",
   "pygments_lexer": "ipython3",
   "version": "3.11.5"
  }
 },
 "nbformat": 4,
 "nbformat_minor": 2
}
